{
 "cells": [
  {
   "cell_type": "markdown",
   "metadata": {},
   "source": [
    "# Belgium Rail Network EDA\n",
    "Exploring GTFS data for NMBS/SNCB rail network using Pandas and visualizations."
   ]
  },
  {
   "cell_type": "code",
   "execution_count": 2,
   "metadata": {},
   "outputs": [],
   "source": [
    "# Import necessary libraries\n",
    "import pandas as pd\n",
    "import matplotlib.pyplot as plt"
   ]
  },
  {
   "cell_type": "code",
   "execution_count": 3,
   "metadata": {},
   "outputs": [],
   "source": [
    "# Load GTFS data\n",
    "stops = pd.read_csv('data/stops.txt')\n",
    "routes = pd.read_csv('data/routes.txt')\n",
    "trips = pd.read_csv('data/trips.txt')\n",
    "stop_times = pd.read_csv('data/stop_times.txt')"
   ]
  },
  {
   "cell_type": "code",
   "execution_count": 5,
   "metadata": {},
   "outputs": [
    {
     "name": "stdout",
     "output_type": "stream",
     "text": [
      "First few rows of stops.txt:\n"
     ]
    },
    {
     "data": {
      "text/html": [
       "<div>\n",
       "<style scoped>\n",
       "    .dataframe tbody tr th:only-of-type {\n",
       "        vertical-align: middle;\n",
       "    }\n",
       "\n",
       "    .dataframe tbody tr th {\n",
       "        vertical-align: top;\n",
       "    }\n",
       "\n",
       "    .dataframe thead th {\n",
       "        text-align: right;\n",
       "    }\n",
       "</style>\n",
       "<table border=\"1\" class=\"dataframe\">\n",
       "  <thead>\n",
       "    <tr style=\"text-align: right;\">\n",
       "      <th></th>\n",
       "      <th>stop_id</th>\n",
       "      <th>stop_code</th>\n",
       "      <th>stop_name</th>\n",
       "      <th>stop_desc</th>\n",
       "      <th>stop_lat</th>\n",
       "      <th>stop_lon</th>\n",
       "      <th>zone_id</th>\n",
       "      <th>stop_url</th>\n",
       "      <th>location_type</th>\n",
       "      <th>parent_station</th>\n",
       "      <th>platform_code</th>\n",
       "      <th>stop_timezone</th>\n",
       "    </tr>\n",
       "  </thead>\n",
       "  <tbody>\n",
       "    <tr>\n",
       "      <th>0</th>\n",
       "      <td>8007817</td>\n",
       "      <td>NaN</td>\n",
       "      <td>Berlin Ostbahnhof (DE)</td>\n",
       "      <td>NaN</td>\n",
       "      <td>52.51060</td>\n",
       "      <td>13.435000</td>\n",
       "      <td>NaN</td>\n",
       "      <td>NaN</td>\n",
       "      <td>0</td>\n",
       "      <td>NaN</td>\n",
       "      <td>NaN</td>\n",
       "      <td>NaN</td>\n",
       "    </tr>\n",
       "    <tr>\n",
       "      <th>1</th>\n",
       "      <td>8014008</td>\n",
       "      <td>NaN</td>\n",
       "      <td>Mannheim Hbf (DE)</td>\n",
       "      <td>NaN</td>\n",
       "      <td>49.47948</td>\n",
       "      <td>8.468935</td>\n",
       "      <td>NaN</td>\n",
       "      <td>NaN</td>\n",
       "      <td>0</td>\n",
       "      <td>NaN</td>\n",
       "      <td>NaN</td>\n",
       "      <td>NaN</td>\n",
       "    </tr>\n",
       "    <tr>\n",
       "      <th>2</th>\n",
       "      <td>8015190</td>\n",
       "      <td>NaN</td>\n",
       "      <td>Herzogenrath</td>\n",
       "      <td>NaN</td>\n",
       "      <td>50.87090</td>\n",
       "      <td>6.094400</td>\n",
       "      <td>NaN</td>\n",
       "      <td>NaN</td>\n",
       "      <td>0</td>\n",
       "      <td>NaN</td>\n",
       "      <td>NaN</td>\n",
       "      <td>NaN</td>\n",
       "    </tr>\n",
       "    <tr>\n",
       "      <th>3</th>\n",
       "      <td>8015199</td>\n",
       "      <td>NaN</td>\n",
       "      <td>Aix-la-Chapelle Ouest</td>\n",
       "      <td>NaN</td>\n",
       "      <td>50.78078</td>\n",
       "      <td>6.070550</td>\n",
       "      <td>NaN</td>\n",
       "      <td>NaN</td>\n",
       "      <td>0</td>\n",
       "      <td>NaN</td>\n",
       "      <td>NaN</td>\n",
       "      <td>NaN</td>\n",
       "    </tr>\n",
       "    <tr>\n",
       "      <th>4</th>\n",
       "      <td>8015345</td>\n",
       "      <td>NaN</td>\n",
       "      <td>Aachen Hbf (DE)</td>\n",
       "      <td>NaN</td>\n",
       "      <td>50.76776</td>\n",
       "      <td>6.091390</td>\n",
       "      <td>NaN</td>\n",
       "      <td>NaN</td>\n",
       "      <td>0</td>\n",
       "      <td>NaN</td>\n",
       "      <td>NaN</td>\n",
       "      <td>NaN</td>\n",
       "    </tr>\n",
       "  </tbody>\n",
       "</table>\n",
       "</div>"
      ],
      "text/plain": [
       "   stop_id  stop_code               stop_name  stop_desc  stop_lat   stop_lon  \\\n",
       "0  8007817        NaN  Berlin Ostbahnhof (DE)        NaN  52.51060  13.435000   \n",
       "1  8014008        NaN       Mannheim Hbf (DE)        NaN  49.47948   8.468935   \n",
       "2  8015190        NaN            Herzogenrath        NaN  50.87090   6.094400   \n",
       "3  8015199        NaN   Aix-la-Chapelle Ouest        NaN  50.78078   6.070550   \n",
       "4  8015345        NaN         Aachen Hbf (DE)        NaN  50.76776   6.091390   \n",
       "\n",
       "   zone_id  stop_url  location_type parent_station platform_code  \\\n",
       "0      NaN       NaN              0            NaN           NaN   \n",
       "1      NaN       NaN              0            NaN           NaN   \n",
       "2      NaN       NaN              0            NaN           NaN   \n",
       "3      NaN       NaN              0            NaN           NaN   \n",
       "4      NaN       NaN              0            NaN           NaN   \n",
       "\n",
       "   stop_timezone  \n",
       "0            NaN  \n",
       "1            NaN  \n",
       "2            NaN  \n",
       "3            NaN  \n",
       "4            NaN  "
      ]
     },
     "metadata": {},
     "output_type": "display_data"
    }
   ],
   "source": [
    "# Quick testing\n",
    "print(\"First few rows of stops.txt:\")\n",
    "display(stops.head())"
   ]
  },
  {
   "cell_type": "code",
   "execution_count": 8,
   "metadata": {},
   "outputs": [
    {
     "name": "stdout",
     "output_type": "stream",
     "text": [
      "\n",
      "Stops info:\n",
      "<class 'pandas.core.frame.DataFrame'>\n",
      "RangeIndex: 2677 entries, 0 to 2676\n",
      "Data columns (total 12 columns):\n",
      " #   Column          Non-Null Count  Dtype  \n",
      "---  ------          --------------  -----  \n",
      " 0   stop_id         2677 non-null   object \n",
      " 1   stop_code       0 non-null      float64\n",
      " 2   stop_name       2677 non-null   object \n",
      " 3   stop_desc       0 non-null      float64\n",
      " 4   stop_lat        2677 non-null   float64\n",
      " 5   stop_lon        2677 non-null   float64\n",
      " 6   zone_id         0 non-null      float64\n",
      " 7   stop_url        0 non-null      float64\n",
      " 8   location_type   2677 non-null   int64  \n",
      " 9   parent_station  2045 non-null   object \n",
      " 10  platform_code   1492 non-null   object \n",
      " 11  stop_timezone   0 non-null      float64\n",
      "dtypes: float64(7), int64(1), object(4)\n",
      "memory usage: 251.1+ KB\n",
      "None\n"
     ]
    }
   ],
   "source": [
    "# Check basic info\n",
    "print(\"\\nStops info:\")\n",
    "print(stops.info())"
   ]
  },
  {
   "cell_type": "code",
   "execution_count": 9,
   "metadata": {},
   "outputs": [
    {
     "name": "stdout",
     "output_type": "stream",
     "text": [
      "\n",
      "Missing values in stops:\n",
      "stop_id              0\n",
      "stop_code         2677\n",
      "stop_name            0\n",
      "stop_desc         2677\n",
      "stop_lat             0\n",
      "stop_lon             0\n",
      "zone_id           2677\n",
      "stop_url          2677\n",
      "location_type        0\n",
      "parent_station     632\n",
      "platform_code     1185\n",
      "stop_timezone     2677\n",
      "dtype: int64\n"
     ]
    }
   ],
   "source": [
    "# Checking for missing values\n",
    "print(\"\\nMissing values in stops:\")\n",
    "print(stops.isnull().sum())"
   ]
  },
  {
   "cell_type": "code",
   "execution_count": 10,
   "metadata": {},
   "outputs": [
    {
     "name": "stdout",
     "output_type": "stream",
     "text": [
      "\n",
      "Summary statistics for stops:\n",
      "       stop_code  stop_desc     stop_lat     stop_lon  zone_id  stop_url  \\\n",
      "count        0.0        0.0  2677.000000  2677.000000      0.0       0.0   \n",
      "mean         NaN        NaN    50.732391     4.487261      NaN       NaN   \n",
      "std          NaN        NaN     0.363385     0.767864      NaN       NaN   \n",
      "min          NaN        NaN    48.880110     2.354577      NaN       NaN   \n",
      "25%          NaN        NaN    50.509210     4.026137      NaN       NaN   \n",
      "50%          NaN        NaN    50.772070     4.411290      NaN       NaN   \n",
      "75%          NaN        NaN    50.978260     4.925810      NaN       NaN   \n",
      "max          NaN        NaN    52.525600    13.435000      NaN       NaN   \n",
      "\n",
      "       location_type  stop_timezone  \n",
      "count    2677.000000            0.0  \n",
      "mean        0.206575            NaN  \n",
      "std         0.404923            NaN  \n",
      "min         0.000000            NaN  \n",
      "25%         0.000000            NaN  \n",
      "50%         0.000000            NaN  \n",
      "75%         0.000000            NaN  \n",
      "max         1.000000            NaN  \n"
     ]
    }
   ],
   "source": [
    "# Basic statistics\n",
    "print(\"\\nSummary statistics for stops:\")\n",
    "print(stops.describe())"
   ]
  },
  {
   "cell_type": "code",
   "execution_count": 11,
   "metadata": {},
   "outputs": [
    {
     "data": {
      "image/png": "[encoded data removed]",
      "text/plain": [
       "<Figure size 640x480 with 1 Axes>"
      ]
     },
     "metadata": {},
     "output_type": "display_data"
    }
   ],
   "source": [
    "# Simple visualization: Plot station locations\n",
    "plt.scatter(stops['stop_lon'], stops['stop_lat'], s=10, c='blue', alpha=0.5)\n",
    "plt.xlabel('Longitude')\n",
    "plt.ylabel('Latitude')\n",
    "plt.title('Rail Stations in Belgium')\n",
    "plt.show()"
   ]
  },
  {
   "cell_type": "code",
   "execution_count": null,
   "metadata": {},
   "outputs": [],
   "source": []
  }
 ],
 "metadata": {
  "kernelspec": {
   "display_name": "venv",
   "language": "python",
   "name": "python3"
  },
  "language_info": {
   "codemirror_mode": {
    "name": "ipython",
    "version": 3
   },
   "file_extension": ".py",
   "mimetype": "text/x-python",
   "name": "python",
   "nbconvert_exporter": "python",
   "pygments_lexer": "ipython3",
   "version": "3.12.4"
  }
 },
 "nbformat": 4,
 "nbformat_minor": 2
}
